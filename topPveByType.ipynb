{
  "nbformat": 4,
  "nbformat_minor": 0,
  "metadata": {
    "kernelspec": {
      "display_name": "Python 3",
      "language": "python",
      "name": "python3"
    },
    "language_info": {
      "codemirror_mode": {
        "name": "ipython",
        "version": 3
      },
      "file_extension": ".py",
      "mimetype": "text/x-python",
      "name": "python",
      "nbconvert_exporter": "python",
      "pygments_lexer": "ipython3",
      "version": "3.7.3"
    },
    "colab": {
      "name": "Stuff.ipynb",
      "provenance": [],
      "collapsed_sections": []
    }
  },
  "cells": [
    {
      "cell_type": "markdown",
      "metadata": {
        "id": "F-VnSdt1vNuC"
      },
      "source": [
        "# Pokemon Match\n",
        "\n",
        "This bit asks you to upload your CalcyIV backup file.\n",
        "This should be in the form history_xxxxxx_xxxxxx.csv"
      ]
    },
    {
      "cell_type": "code",
      "metadata": {
        "colab": {
          "base_uri": "https://localhost:8080/"
        },
        "id": "VMirn-gPRsl6",
        "outputId": "2dea6446-1712-4137-d4ec-efe8f901a781"
      },
      "source": [
        "import os\n",
        "import shutil\n",
        "print(os.getcwd())"
      ],
      "execution_count": 1,
      "outputs": [
        {
          "output_type": "stream",
          "text": [
            "/content\n"
          ],
          "name": "stdout"
        }
      ]
    },
    {
      "cell_type": "code",
      "metadata": {
        "id": "Sz5H4yWuvNuO",
        "colab": {
          "base_uri": "https://localhost:8080/"
        },
        "outputId": "ab266106-ff77-4675-9b5a-045b7ef6cb0e"
      },
      "source": [
        "# this bit imports the github, clones and changes the path:\n",
        "os.chdir('/content')\n",
        "myDir = './drmckenzie.github.io/'\n",
        "\n",
        "# WARNING! this will delete any changes to the files you have made\n",
        "if os.path.isdir(myDir):\n",
        "    shutil.rmtree(myDir)\n",
        "\n",
        "!git clone https://github.com/drmckenzie/drmckenzie.github.io.git\n",
        "\n",
        "os.chdir(myDir)\n",
        "print(os.getcwd())"
      ],
      "execution_count": 2,
      "outputs": [
        {
          "output_type": "stream",
          "text": [
            "Cloning into 'drmckenzie.github.io'...\n",
            "remote: Enumerating objects: 160, done.\u001b[K\n",
            "remote: Counting objects: 100% (160/160), done.\u001b[K\n",
            "remote: Compressing objects: 100% (97/97), done.\u001b[K\n",
            "remote: Total 160 (delta 97), reused 114 (delta 60), pack-reused 0\u001b[K\n",
            "Receiving objects: 100% (160/160), 1.11 MiB | 8.87 MiB/s, done.\n",
            "Resolving deltas: 100% (97/97), done.\n",
            "/content/drmckenzie.github.io\n"
          ],
          "name": "stdout"
        }
      ]
    },
    {
      "cell_type": "markdown",
      "metadata": {
        "id": "wONFMP3ExG8z"
      },
      "source": [
        ""
      ]
    },
    {
      "cell_type": "code",
      "metadata": {
        "colab": {
          "base_uri": "https://localhost:8080/"
        },
        "id": "B9HkipZqxuP0",
        "outputId": "f7c6e713-29f4-47b9-dbbf-ffb8a6755680"
      },
      "source": [
        "import pandas as pd\n",
        " \n",
        "import pokemonMatch as match\n",
        " \n",
        "runCases =  'basic'\n",
        " \n",
        "whatFlag = runCases\n",
        " \n",
        "#flag for running cases\n",
        "#whatFlag = 'both' # 'basic' 'shadow' 'both'\n",
        "\n",
        "# GamePress total CPO filename\n",
        "gamepressFilenameShadow = 'shadow_comprehensive_dps_gamepress_L35_best_moves.csv'\n",
        "gamepressFilename = 'basic_comprehensive_dps_gamepress_L35_all_moves.csv'\n",
        "gamepressFilename = 'all_comprehensive_dps_gamepress_L35_all_moves.csv'\n",
        "#gamepressFilename = 'mega_comprehensive_dps_gamepress_L35_all_moves.csv'\n",
        "\n",
        "# setting the filters\n",
        "typeFilter = []\n",
        "topX = 0\n",
        "\n",
        "# load data\n",
        "allData = match.getGamepressData(gamepressFilename,typeFilter,topX)\n",
        "    \n",
        "# print(list(allData.columns))\n",
        " \n",
        "# type lookup:\n",
        "allData = match.typeAttackLookup(allData)\n",
        " \n",
        "# finding Pokémon with both attack types the same\n",
        "typeList = [\"Normal\", \"Fire\", \"Water\", \"Grass\", \"Flying\", \"Fighting\", \"Poison\", \"Electric\", \"Ground\", \"Rock\", \"Psychic\", \"Ice\", \"Bug\", \"Ghost\", \"Steel\", \"Dragon\", \"Dark\", \"Fairy\"]\n",
        "\n",
        "setData = pd.DataFrame() \n",
        "\n",
        "findThisMany = 5\n",
        "\n",
        "joinedStrings = \"\"\n",
        "for thisType in typeList:\n",
        "    setDataTemp = match.findBothAttackOfType(allData,thisType)\n",
        "    setData = pd.concat([setData,setDataTemp.head(findThisMany)],sort=False)\n",
        "    topTypeSet = setDataTemp[[\"Pokemon\",\"DPS^3*TDO\",\"Fast move\",\"Special move\",\"TypeFast\"]]\n",
        "    print(topTypeSet.head(findThisMany))\n",
        "    typeListTemp = setDataTemp[\"#\"].head(findThisMany)\n",
        "    typeStr = [str(int(inte)) for inte in typeListTemp]\n",
        "    typeStr = \",\".join(typeStr)\n",
        "    #print(typeStr)\n",
        "    allString = \"Type: \"+thisType+\" top \"+str(findThisMany)+\" - \"+typeStr\n",
        "    joinedStrings = joinedStrings + \"\\n\" + allString\n",
        "    print(allString)\n",
        "\n",
        "print(joinedStrings)\n",
        "\n",
        "#print(allData[allData[\"Pokemon\"]==\"Kyogre\"])\n",
        "\n",
        "#print(allData.head(20))\n"
      ],
      "execution_count": 20,
      "outputs": [
        {
          "output_type": "stream",
          "text": [
            "               Pokemon  DPS^3*TDO Fast move Special move TypeFast\n",
            "674   Shadow Porygon-Z     1781.3   Lock-On   Hyper Beam   Normal\n",
            "2129         Porygon-Z     1255.1   Lock-On       Return   Normal\n",
            "705     Shadow Ambipom      807.2   Scratch   Hyper Beam   Normal\n",
            "676    Shadow Porygon2      769.7   Lock-On   Hyper Beam   Normal\n",
            "2246           Ambipom      599.5   Scratch       Return   Normal\n",
            "Type: Normal top 5 - 474,474,424,233,424\n",
            "               Pokemon  DPS^3*TDO  Fast move  Special move TypeFast\n",
            "2284      Shadow Entei     3031.7  Fire Fang      Overheat     Fire\n",
            "2285          Reshiram     2943.1  Fire Fang      Overheat     Fire\n",
            "2289    Shadow Moltres     2916.5  Fire Spin      Overheat     Fire\n",
            "8397  Shadow Charizard     2421.3  Fire Spin    Blast Burn     Fire\n",
            "817    Shadow Arcanine     1824.6  Fire Fang  Flamethrower     Fire\n",
            "Type: Fire top 5 - 244,643,146,6,59\n",
            "              Pokemon  DPS^3*TDO  Fast move  Special move TypeFast\n",
            "8566  Shadow Swampert     2747.5  Water Gun  Hydro Cannon    Water\n",
            "6995           Kyogre     2190.4  Waterfall          Surf    Water\n",
            "3056  Shadow Gyarados     1845.1  Waterfall    Hydro Pump    Water\n",
            "8568         Swampert     1527.5  Water Gun  Hydro Cannon    Water\n",
            "9050          Kingler     1462.5     Bubble    Crabhammer    Water\n",
            "Type: Water top 5 - 260,382,130,260,99\n",
            "                Pokemon  DPS^3*TDO    Fast move  Special move TypeFast\n",
            "8553    Shadow Torterra     2013.3   Razor Leaf  Frenzy Plant    Grass\n",
            "8557    Shadow Venusaur     1995.1    Vine Whip  Frenzy Plant    Grass\n",
            "1478   Shadow Exeggutor     1386.3  Bullet Seed    Solar Beam    Grass\n",
            "1687  Shadow Victreebel     1216.9   Razor Leaf    Leaf Blade    Grass\n",
            "3649           Roserade     1179.2   Razor Leaf    Grass Knot    Grass\n",
            "Type: Grass top 5 - 389,3,103,71,407\n",
            "             Pokemon  DPS^3*TDO              Fast move Special move TypeFast\n",
            "7030  Shadow Moltres     3638.2            Wing Attack   Sky Attack   Flying\n",
            "7031         Moltres     2024.2            Wing Attack   Sky Attack   Flying\n",
            "8495           Ho-Oh     1553.8  Hidden Power (Flying)   Brave Bird   Flying\n",
            "6804        Rayquaza     1445.0              Air Slash    Hurricane   Flying\n",
            "7050       Honchkrow     1260.9                   Peck   Sky Attack   Flying\n",
            "Type: Flying top 5 - 146,146,250,384,430\n",
            "             Pokemon  DPS^3*TDO Fast move   Special move  TypeFast\n",
            "6156  Shadow Machamp     2691.5   Counter  Dynamic Punch  Fighting\n",
            "6277         Lucario     2002.4   Counter    Aura Sphere  Fighting\n",
            "6157      Conkeldurr     1941.9   Counter  Dynamic Punch  Fighting\n",
            "6158         Machamp     1495.9   Counter  Dynamic Punch  Fighting\n",
            "6159        Hariyama     1227.8   Counter  Dynamic Punch  Fighting\n",
            "Type: Fighting top 5 - 68,448,534,68,297\n",
            "                Pokemon  DPS^3*TDO   Fast move Special move TypeFast\n",
            "5020           Roserade     1200.1  Poison Jab  Sludge Bomb   Poison\n",
            "5040  Shadow Victreebel     1175.5        Acid  Sludge Bomb   Poison\n",
            "5041   Shadow Vileplume     1151.9        Acid  Sludge Bomb   Poison\n",
            "7384         Shadow Muk     1000.9  Poison Jab    Gunk Shot   Poison\n",
            "5021    Shadow Skuntank      984.1  Poison Jab  Sludge Bomb   Poison\n",
            "Type: Poison top 5 - 407,71,45,89,435\n",
            "                Pokemon  DPS^3*TDO      Fast move Special move  TypeFast\n",
            "7231      Shadow Raikou     3160.8  Thunder Shock  Wild Charge  Electric\n",
            "7232  Shadow Electivire     2752.0  Thunder Shock  Wild Charge  Electric\n",
            "366       Shadow Zapdos     2734.7  Thunder Shock  Thunderbolt  Electric\n",
            "7262             Zekrom     2585.4    Charge Beam  Wild Charge  Electric\n",
            "7267   Shadow Magnezone     2468.3          Spark  Wild Charge  Electric\n",
            "Type: Electric top 5 - 243,466,145,644,462\n",
            "              Pokemon  DPS^3*TDO Fast move Special move TypeFast\n",
            "4500          Groudon     1651.1  Mud Shot   Earthquake   Ground\n",
            "4501         Garchomp     1510.5  Mud Shot   Earthquake   Ground\n",
            "8619        Excadrill     1095.4  Mud Shot    Drill Run   Ground\n",
            "4503  Shadow Swampert      976.1  Mud Shot   Earthquake   Ground\n",
            "4306    Shadow Flygon      976.1  Mud Shot  Earth Power   Ground\n",
            "Type: Ground top 5 - 383,445,530,260,330\n",
            "                Pokemon  DPS^3*TDO   Fast move  Special move TypeFast\n",
            "6538   Shadow Tyranitar     2218.3  Smack Down    Stone Edge     Rock\n",
            "9084          Rhyperior     1971.6  Smack Down  Rock Wrecker     Rock\n",
            "3192          Rampardos     1873.1  Smack Down    Rock Slide     Rock\n",
            "3193          Terrakion     1576.1  Smack Down    Rock Slide     Rock\n",
            "3210  Shadow Aerodactyl     1381.8  Rock Throw    Rock Slide     Rock\n",
            "Type: Rock top 5 - 248,464,409,639,142\n",
            "             Pokemon  DPS^3*TDO     Fast move Special move TypeFast\n",
            "0      Shadow Mewtwo     8756.0     Confusion    Psystrike  Psychic\n",
            "1             Mewtwo     4830.9     Confusion    Psystrike  Psychic\n",
            "61  Shadow Metagross     3139.5  Zen Headbutt      Psychic  Psychic\n",
            "6    Shadow Alakazam     2742.0     Confusion      Psychic  Psychic\n",
            "7   Shadow Exeggutor     2279.3     Confusion      Psychic  Psychic\n",
            "Type: Psychic top 5 - 150,150,376,65,103\n",
            "               Pokemon  DPS^3*TDO     Fast move Special move TypeFast\n",
            "2362  Shadow Mamoswine     2808.7   Powder Snow    Avalanche      Ice\n",
            "2374    Shadow Weavile     1939.6     Ice Shard    Avalanche      Ice\n",
            "2363         Mamoswine     1528.6   Powder Snow    Avalanche      Ice\n",
            "2386           Glaceon     1131.2  Frost Breath    Avalanche      Ice\n",
            "2375           Weavile     1075.1     Ice Shard    Avalanche      Ice\n",
            "Type: Ice top 5 - 473,461,473,471,461\n",
            "             Pokemon  DPS^3*TDO    Fast move Special move TypeFast\n",
            "6312   Shadow Pinsir     1355.2     Bug Bite    X-Scissor      Bug\n",
            "6299   Shadow Scizor     1295.0  Fury Cutter    X-Scissor      Bug\n",
            "6301  Shadow Scyther      938.4  Fury Cutter    X-Scissor      Bug\n",
            "6313          Pinsir      773.5     Bug Bite    X-Scissor      Bug\n",
            "6142      Escavalier      764.0     Bug Bite     Megahorn      Bug\n",
            "Type: Bug top 5 - 127,212,123,127,589\n",
            "              Pokemon  DPS^3*TDO    Fast move Special move TypeFast\n",
            "316        Chandelure     1878.3          Hex  Shadow Ball    Ghost\n",
            "327            Gengar     1679.1         Lick  Shadow Ball    Ghost\n",
            "331    Shadow Banette     1466.7  Shadow Claw  Shadow Ball    Ghost\n",
            "318  Shadow Mismagius     1354.2          Hex  Shadow Ball    Ghost\n",
            "332           Banette      810.0  Shadow Claw  Shadow Ball    Ghost\n",
            "Type: Ghost top 5 - 609,94,354,429,354\n",
            "               Pokemon  DPS^3*TDO     Fast move Special move TypeFast\n",
            "6268  Shadow Metagross     5211.4  Bullet Punch  Meteor Mash    Steel\n",
            "6269         Metagross     2915.4  Bullet Punch  Meteor Mash    Steel\n",
            "6353            Dialga     1812.4    Metal Claw    Iron Head    Steel\n",
            "6354         Excadrill     1172.0    Metal Claw    Iron Head    Steel\n",
            "6333     Shadow Scizor     1166.6  Bullet Punch    Iron Head    Steel\n",
            "Type: Steel top 5 - 376,376,483,530,212\n",
            "               Pokemon  DPS^3*TDO    Fast move  Special move TypeFast\n",
            "6670  Shadow Salamence     4761.4  Dragon Tail       Outrage   Dragon\n",
            "6671  Shadow Dragonite     4208.4  Dragon Tail       Outrage   Dragon\n",
            "6672          Rayquaza     2875.2  Dragon Tail       Outrage   Dragon\n",
            "6719            Palkia     2671.8  Dragon Tail  Draco Meteor   Dragon\n",
            "6673         Salamence     2637.6  Dragon Tail       Outrage   Dragon\n",
            "Type: Dragon top 5 - 373,149,384,484,373\n",
            "               Pokemon  DPS^3*TDO Fast move Special move TypeFast\n",
            "7075  Shadow Tyranitar     2192.6      Bite       Crunch     Dark\n",
            "8291    Shadow Weavile     2136.6     Snarl    Foul Play     Dark\n",
            "3437           Darkrai     1771.6     Snarl   Dark Pulse     Dark\n",
            "8292   Shadow Houndoom     1497.7     Snarl    Foul Play     Dark\n",
            "3429         Hydreigon     1325.1      Bite   Dark Pulse     Dark\n",
            "Type: Dark top 5 - 248,461,491,229,635\n",
            "               Pokemon  DPS^3*TDO Fast move    Special move TypeFast\n",
            "1208  Shadow Gardevoir     1898.2     Charm  Dazzling Gleam    Fairy\n",
            "1209          Togekiss     1123.1     Charm  Dazzling Gleam    Fairy\n",
            "1210         Gardevoir     1063.7     Charm  Dazzling Gleam    Fairy\n",
            "8152          Granbull      702.9     Charm      Play Rough    Fairy\n",
            "8153           Beartic      558.0     Charm      Play Rough    Fairy\n",
            "Type: Fairy top 5 - 282,468,282,210,614\n",
            "\n",
            "Type: Normal top 5 - 474,474,424,233,424\n",
            "Type: Fire top 5 - 244,643,146,6,59\n",
            "Type: Water top 5 - 260,382,130,260,99\n",
            "Type: Grass top 5 - 389,3,103,71,407\n",
            "Type: Flying top 5 - 146,146,250,384,430\n",
            "Type: Fighting top 5 - 68,448,534,68,297\n",
            "Type: Poison top 5 - 407,71,45,89,435\n",
            "Type: Electric top 5 - 243,466,145,644,462\n",
            "Type: Ground top 5 - 383,445,530,260,330\n",
            "Type: Rock top 5 - 248,464,409,639,142\n",
            "Type: Psychic top 5 - 150,150,376,65,103\n",
            "Type: Ice top 5 - 473,461,473,471,461\n",
            "Type: Bug top 5 - 127,212,123,127,589\n",
            "Type: Ghost top 5 - 609,94,354,429,354\n",
            "Type: Steel top 5 - 376,376,483,530,212\n",
            "Type: Dragon top 5 - 373,149,384,484,373\n",
            "Type: Dark top 5 - 248,461,491,229,635\n",
            "Type: Fairy top 5 - 282,468,282,210,614\n"
          ],
          "name": "stdout"
        }
      ]
    }
  ]
}