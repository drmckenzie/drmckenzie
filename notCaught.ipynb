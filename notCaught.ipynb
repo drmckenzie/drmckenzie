{
 "cells": [
  {
   "cell_type": "markdown",
   "metadata": {},
   "source": [
    "# Pokemon Match\n",
    "\n",
    "This bit asks you to upload your CalcyIV backup file.\n",
    "This should be in the form history_xxxxxx_xxxxxx.csv"
   ]
  },
  {
   "cell_type": "code",
   "execution_count": null,
   "metadata": {},
   "outputs": [],
   "source": [
    "# this asks you to import a history file:\n",
    "from google.colab import files\n",
    "\n",
    "uploaded = files.upload()\n",
    "\n",
    "for fn in uploaded.keys():\n",
    "  print('User uploaded file \"{name}\" with length {length} bytes'.format(\n",
    "      name=fn, length=len(uploaded[fn])))"
   ]
  },
  {
   "cell_type": "code",
   "execution_count": 1,
   "metadata": {},
   "outputs": [],
   "source": [
    "# This imports the search and calculation python routines:\n",
    "import sys\n",
    "import os\n",
    "\n",
    "py_file_location = \"pokemonMatch.py\"\n",
    "sys.path.append(os.path.abspath(py_file_location))"
   ]
  },
  {
   "cell_type": "markdown",
   "metadata": {},
   "source": [
    "This section runs the code. If it doesn't find your history file, it will run a test file."
   ]
  },
  {
   "cell_type": "code",
   "execution_count": 2,
   "metadata": {},
   "outputs": [
    {
     "name": "stdout",
     "output_type": "stream",
     "text": [
      "Using filename - history_20210316_110351.csv\n",
      " \n",
      "Copy paste this string to pokemon go:\n",
      " \n",
      "Archeops,Azelf,Bastiodon,Beartic,Beheeyem,Bisharp,Bouffalant,Braixen,Braviary,Carnivine,Carracosta,Castform (Rainy),Castform (Snowy),Castform (Sunny),Chatot,Chesnaught,Cofagrigus,Conkeldurr,Cresselia,Darkrai,Darmanitan,Delphox,Dewott,Dialga,Dusknoir,Fraxure,Frillish,Frogadier,Garchomp,Glaceon,Golurk,Gorebyss,Gothitelle,Gothorita,Greninja,Gurdurr,Haxorus,Heracross,Huntail,Hydreigon,Jellicent,Klefki,Klinklang,Krokorok,Krookodile,Leafeon,Leavanny,Lickilicky,Lilligant,Luxray,Maractus,Metang,Mismagius,Mr. Rime,Musharna,Ninjask,Noivern,Pachirisu,Palkia,Palpitoad,Pansage,Pyroar,Quilladin,Regice,Regigigas,Registeel,Relicanth,Reshiram,Rotom,Runerigus,Samurott,Sandile,Sawsbuck,Scolipede,Sigilyph,Simipour,Simisage,Swadloon,Swanna,Terrakion,Throh,Tirtouga,Togekiss,Torkoal,Tropius,Uxie,Vanillish,Vanilluxe,Virizion,Zekrom\n",
      " \n",
      " \n",
      "This has also been copied to the clipboard for easy use.\n",
      " \n"
     ]
    }
   ],
   "source": [
    "import pokemonMatch as match\n",
    "import glob\n",
    "import pandas as pd\n",
    "\n",
    "# try and see if there's a calcy history:\n",
    "\n",
    "firstFile = glob.glob(\"history*.csv\")\n",
    "\n",
    "test_filename = \"test_history.csv\"\n",
    "\n",
    "if firstFile == []:\n",
    "    print(\"no file found. Using an example file\")\n",
    "    calcyFilename = test_filename \n",
    "else:\n",
    "    calcyFilename = firstFile[0]\n",
    "    print(\"Using filename - \"+ calcyFilename)\n",
    "\n",
    "# this loads the gamepress attacker spreadsheet:\n",
    "gamepressFilename = 'basic_comprehensive_dps_gamepress_L35_best_moves.csv'\n",
    "\n",
    "releasedPokemon,caughtPokemon,notCaught = match.getListOfPokemonNotCaught(calcyFilename,gamepressFilename)\n",
    "\n",
    "notCaughtString = ','.join([n for n in notCaught.Pokemon])\n",
    "\n",
    "# saves as a file:\n",
    "outFile = 'not_caught_list.txt'\n",
    "with open(outFile, 'w') as file:\n",
    "    file.write(\"%s,\" % notCaughtString)\n",
    "\n",
    "# and display to the screen:\n",
    "notCaughtStringDF = pd.DataFrame([notCaughtString])\n",
    "print(\" \")\n",
    "print(\"Copy paste this string to pokemon go:\")\n",
    "print(\" \")\n",
    "print(notCaughtString)\n",
    "print(\" \")\n",
    "print(\" \")\n",
    "print(\"This has also been copied to the clipboard for easy use.\")\n",
    "print(\" \")\n"
   ]
  },
  {
   "cell_type": "code",
   "execution_count": null,
   "metadata": {},
   "outputs": [],
   "source": []
  }
 ],
 "metadata": {
  "kernelspec": {
   "display_name": "Python 3",
   "language": "python",
   "name": "python3"
  },
  "language_info": {
   "codemirror_mode": {
    "name": "ipython",
    "version": 3
   },
   "file_extension": ".py",
   "mimetype": "text/x-python",
   "name": "python",
   "nbconvert_exporter": "python",
   "pygments_lexer": "ipython3",
   "version": "3.7.3"
  }
 },
 "nbformat": 4,
 "nbformat_minor": 2
}
